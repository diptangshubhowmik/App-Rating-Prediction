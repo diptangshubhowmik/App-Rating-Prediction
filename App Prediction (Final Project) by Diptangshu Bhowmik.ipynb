{
 "cells": [
  {
   "cell_type": "markdown",
   "id": "51dc75dc",
   "metadata": {},
   "source": [
    "# 1. Import all the required Libraries and load the data file using pandas."
   ]
  },
  {
   "cell_type": "code",
   "execution_count": 1,
   "id": "7566736a",
   "metadata": {},
   "outputs": [],
   "source": [
    "import pandas as pd\n",
    "import numpy as np\n",
    "import seaborn as sns\n",
    "import matplotlib.pyplot as plt\n",
    "%matplotlib inline\n",
    "color = sns.color_palette()"
   ]
  },
  {
   "cell_type": "code",
   "execution_count": 2,
   "id": "81e0cd8b",
   "metadata": {},
   "outputs": [],
   "source": [
    "import warnings\n",
    "warnings.filterwarnings('ignore')"
   ]
  },
  {
   "cell_type": "code",
   "execution_count": 3,
   "id": "1d09ff6c",
   "metadata": {},
   "outputs": [
    {
     "data": {
      "text/html": [
       "<div>\n",
       "<style scoped>\n",
       "    .dataframe tbody tr th:only-of-type {\n",
       "        vertical-align: middle;\n",
       "    }\n",
       "\n",
       "    .dataframe tbody tr th {\n",
       "        vertical-align: top;\n",
       "    }\n",
       "\n",
       "    .dataframe thead th {\n",
       "        text-align: right;\n",
       "    }\n",
       "</style>\n",
       "<table border=\"1\" class=\"dataframe\">\n",
       "  <thead>\n",
       "    <tr style=\"text-align: right;\">\n",
       "      <th></th>\n",
       "      <th>App</th>\n",
       "      <th>Category</th>\n",
       "      <th>Rating</th>\n",
       "      <th>Reviews</th>\n",
       "      <th>Size</th>\n",
       "      <th>Installs</th>\n",
       "      <th>Type</th>\n",
       "      <th>Price</th>\n",
       "      <th>Content Rating</th>\n",
       "      <th>Genres</th>\n",
       "      <th>Last Updated</th>\n",
       "      <th>Current Ver</th>\n",
       "      <th>Android Ver</th>\n",
       "    </tr>\n",
       "  </thead>\n",
       "  <tbody>\n",
       "    <tr>\n",
       "      <th>0</th>\n",
       "      <td>Photo Editor &amp; Candy Camera &amp; Grid &amp; ScrapBook</td>\n",
       "      <td>ART_AND_DESIGN</td>\n",
       "      <td>4.1</td>\n",
       "      <td>159</td>\n",
       "      <td>19M</td>\n",
       "      <td>10,000+</td>\n",
       "      <td>Free</td>\n",
       "      <td>0</td>\n",
       "      <td>Everyone</td>\n",
       "      <td>Art &amp; Design</td>\n",
       "      <td>January 7, 2018</td>\n",
       "      <td>1.0.0</td>\n",
       "      <td>4.0.3 and up</td>\n",
       "    </tr>\n",
       "    <tr>\n",
       "      <th>1</th>\n",
       "      <td>Coloring book moana</td>\n",
       "      <td>ART_AND_DESIGN</td>\n",
       "      <td>3.9</td>\n",
       "      <td>967</td>\n",
       "      <td>14M</td>\n",
       "      <td>500,000+</td>\n",
       "      <td>Free</td>\n",
       "      <td>0</td>\n",
       "      <td>Everyone</td>\n",
       "      <td>Art &amp; Design;Pretend Play</td>\n",
       "      <td>January 15, 2018</td>\n",
       "      <td>2.0.0</td>\n",
       "      <td>4.0.3 and up</td>\n",
       "    </tr>\n",
       "    <tr>\n",
       "      <th>2</th>\n",
       "      <td>U Launcher Lite – FREE Live Cool Themes, Hide ...</td>\n",
       "      <td>ART_AND_DESIGN</td>\n",
       "      <td>4.7</td>\n",
       "      <td>87510</td>\n",
       "      <td>8.7M</td>\n",
       "      <td>5,000,000+</td>\n",
       "      <td>Free</td>\n",
       "      <td>0</td>\n",
       "      <td>Everyone</td>\n",
       "      <td>Art &amp; Design</td>\n",
       "      <td>August 1, 2018</td>\n",
       "      <td>1.2.4</td>\n",
       "      <td>4.0.3 and up</td>\n",
       "    </tr>\n",
       "    <tr>\n",
       "      <th>3</th>\n",
       "      <td>Sketch - Draw &amp; Paint</td>\n",
       "      <td>ART_AND_DESIGN</td>\n",
       "      <td>4.5</td>\n",
       "      <td>215644</td>\n",
       "      <td>25M</td>\n",
       "      <td>50,000,000+</td>\n",
       "      <td>Free</td>\n",
       "      <td>0</td>\n",
       "      <td>Teen</td>\n",
       "      <td>Art &amp; Design</td>\n",
       "      <td>June 8, 2018</td>\n",
       "      <td>Varies with device</td>\n",
       "      <td>4.2 and up</td>\n",
       "    </tr>\n",
       "    <tr>\n",
       "      <th>4</th>\n",
       "      <td>Pixel Draw - Number Art Coloring Book</td>\n",
       "      <td>ART_AND_DESIGN</td>\n",
       "      <td>4.3</td>\n",
       "      <td>967</td>\n",
       "      <td>2.8M</td>\n",
       "      <td>100,000+</td>\n",
       "      <td>Free</td>\n",
       "      <td>0</td>\n",
       "      <td>Everyone</td>\n",
       "      <td>Art &amp; Design;Creativity</td>\n",
       "      <td>June 20, 2018</td>\n",
       "      <td>1.1</td>\n",
       "      <td>4.4 and up</td>\n",
       "    </tr>\n",
       "  </tbody>\n",
       "</table>\n",
       "</div>"
      ],
      "text/plain": [
       "                                                 App        Category  Rating  \\\n",
       "0     Photo Editor & Candy Camera & Grid & ScrapBook  ART_AND_DESIGN     4.1   \n",
       "1                                Coloring book moana  ART_AND_DESIGN     3.9   \n",
       "2  U Launcher Lite – FREE Live Cool Themes, Hide ...  ART_AND_DESIGN     4.7   \n",
       "3                              Sketch - Draw & Paint  ART_AND_DESIGN     4.5   \n",
       "4              Pixel Draw - Number Art Coloring Book  ART_AND_DESIGN     4.3   \n",
       "\n",
       "  Reviews  Size     Installs  Type Price Content Rating  \\\n",
       "0     159   19M      10,000+  Free     0       Everyone   \n",
       "1     967   14M     500,000+  Free     0       Everyone   \n",
       "2   87510  8.7M   5,000,000+  Free     0       Everyone   \n",
       "3  215644   25M  50,000,000+  Free     0           Teen   \n",
       "4     967  2.8M     100,000+  Free     0       Everyone   \n",
       "\n",
       "                      Genres      Last Updated         Current Ver  \\\n",
       "0               Art & Design   January 7, 2018               1.0.0   \n",
       "1  Art & Design;Pretend Play  January 15, 2018               2.0.0   \n",
       "2               Art & Design    August 1, 2018               1.2.4   \n",
       "3               Art & Design      June 8, 2018  Varies with device   \n",
       "4    Art & Design;Creativity     June 20, 2018                 1.1   \n",
       "\n",
       "    Android Ver  \n",
       "0  4.0.3 and up  \n",
       "1  4.0.3 and up  \n",
       "2  4.0.3 and up  \n",
       "3    4.2 and up  \n",
       "4    4.4 and up  "
      ]
     },
     "execution_count": 3,
     "metadata": {},
     "output_type": "execute_result"
    }
   ],
   "source": [
    "df = pd.read_csv('googleplaystore.csv')\n",
    "df.head()"
   ]
  },
  {
   "cell_type": "markdown",
   "id": "9612f148",
   "metadata": {},
   "source": [
    "# 2. Check for null values in the data. Get the number of null values for each column."
   ]
  },
  {
   "cell_type": "code",
   "execution_count": 5,
   "id": "ba3ca08b",
   "metadata": {},
   "outputs": [
    {
     "data": {
      "text/plain": [
       "App                  0\n",
       "Category             0\n",
       "Rating            1474\n",
       "Reviews              0\n",
       "Size                 0\n",
       "Installs             0\n",
       "Type                 1\n",
       "Price                0\n",
       "Content Rating       1\n",
       "Genres               0\n",
       "Last Updated         0\n",
       "Current Ver          8\n",
       "Android Ver          3\n",
       "dtype: int64"
      ]
     },
     "execution_count": 5,
     "metadata": {},
     "output_type": "execute_result"
    }
   ],
   "source": [
    "df.isna().sum()"
   ]
  },
  {
   "cell_type": "markdown",
   "id": "b2aab54f",
   "metadata": {},
   "source": [
    "Rating, Type, Content Rating, Current Ver & Android Ver have null values"
   ]
  },
  {
   "cell_type": "markdown",
   "id": "22975c83",
   "metadata": {},
   "source": [
    "# 3. Drop records with nulls in any of the columns."
   ]
  },
  {
   "cell_type": "code",
   "execution_count": 7,
   "id": "773856be",
   "metadata": {},
   "outputs": [
    {
     "name": "stdout",
     "output_type": "stream",
     "text": [
      "Frame Size before :  (10841, 13)\n",
      "Frame Size After :  (9360, 13)\n"
     ]
    },
    {
     "data": {
      "text/plain": [
       "App               0\n",
       "Category          0\n",
       "Rating            0\n",
       "Reviews           0\n",
       "Size              0\n",
       "Installs          0\n",
       "Type              0\n",
       "Price             0\n",
       "Content Rating    0\n",
       "Genres            0\n",
       "Last Updated      0\n",
       "Current Ver       0\n",
       "Android Ver       0\n",
       "dtype: int64"
      ]
     },
     "execution_count": 7,
     "metadata": {},
     "output_type": "execute_result"
    }
   ],
   "source": [
    "print(\"Frame Size before : \" , df.shape)\n",
    "df.dropna(subset=['Rating', 'Type', 'Content Rating', 'Current Ver' , 'Android Ver'],axis=0, inplace=True)\n",
    "print(\"Frame Size After : \" , df.shape)\n",
    "df.isna().sum()"
   ]
  },
  {
   "cell_type": "markdown",
   "id": "29cfc1aa",
   "metadata": {},
   "source": [
    "# 4. Variables seem to have incorrect type and inconsistent formatting. You need to fix them:"
   ]
  },
  {
   "cell_type": "markdown",
   "id": "ab1e1727",
   "metadata": {},
   "source": [
    "# 4.1 Size column has sizes in Kb as well as Mb. To analyze, you’ll need to convert these to numeric."
   ]
  },
  {
   "cell_type": "markdown",
   "id": "9e5aadd7",
   "metadata": {},
   "source": [
    "4.1.1 Extract the numeric value from the column"
   ]
  },
  {
   "cell_type": "markdown",
   "id": "138060b6",
   "metadata": {},
   "source": [
    "4.1.2 Multiply the value by 1,000, if size is mentioned in Mb"
   ]
  },
  {
   "cell_type": "code",
   "execution_count": 9,
   "id": "6252c7a1",
   "metadata": {},
   "outputs": [],
   "source": [
    "j=df.columns.get_loc('Size')\n",
    "for i in range(0,len(df)):\n",
    "    if df.iloc[i,j].lower().endswith('k'):\n",
    "        df.iloc[i,j]=float(df.iloc[i,j][0:-1])\n",
    "    elif df.iloc[i,j].lower().endswith('m'):\n",
    "        df.iloc[i,j]=float(df.iloc[i,j][0:-1])*1000"
   ]
  },
  {
   "cell_type": "code",
   "execution_count": 10,
   "id": "7ca23a17",
   "metadata": {},
   "outputs": [
    {
     "data": {
      "text/plain": [
       "(7723, 13)"
      ]
     },
     "execution_count": 10,
     "metadata": {},
     "output_type": "execute_result"
    }
   ],
   "source": [
    "df.Size=pd.to_numeric(df.Size,errors='coerce')\n",
    "df.dropna(subset=['Size'],inplace=True)\n",
    "df.shape"
   ]
  },
  {
   "cell_type": "markdown",
   "id": "a983b24a",
   "metadata": {},
   "source": [
    "# 4.2 Reviews is a numeric field that is loaded as a string field. Convert it to numeric (int/float)."
   ]
  },
  {
   "cell_type": "code",
   "execution_count": 11,
   "id": "95710b9d",
   "metadata": {},
   "outputs": [
    {
     "data": {
      "text/plain": [
       "dtype('float64')"
      ]
     },
     "execution_count": 11,
     "metadata": {},
     "output_type": "execute_result"
    }
   ],
   "source": [
    "df.Reviews=df.Reviews.astype('float64')\n",
    "df.Reviews.dtypes"
   ]
  },
  {
   "cell_type": "markdown",
   "id": "d57900f7",
   "metadata": {},
   "source": [
    "# 4.3 Installs field is currently stored as string and has values like 1,000,000+."
   ]
  },
  {
   "cell_type": "markdown",
   "id": "9211b8c0",
   "metadata": {},
   "source": [
    "4.3.1  Treat 1,000,000+ as 1,000,000 "
   ]
  },
  {
   "cell_type": "markdown",
   "id": "258e0dbd",
   "metadata": {},
   "source": [
    "4.3.2  Remove ‘+’, ‘,’ from the field, convert it to integer."
   ]
  },
  {
   "cell_type": "code",
   "execution_count": 12,
   "id": "1c4fa39b",
   "metadata": {},
   "outputs": [
    {
     "data": {
      "text/plain": [
       "array(['10,000+', '500,000+', '5,000,000+', '50,000,000+', '100,000+',\n",
       "       '50,000+', '1,000,000+', '10,000,000+', '5,000+', '100,000,000+',\n",
       "       '1,000+', '500,000,000+', '100+', '500+', '10+', '1,000,000,000+',\n",
       "       '5+', '50+', '1+'], dtype=object)"
      ]
     },
     "execution_count": 12,
     "metadata": {},
     "output_type": "execute_result"
    }
   ],
   "source": [
    "df['Installs'].unique()"
   ]
  },
  {
   "cell_type": "code",
   "execution_count": 13,
   "id": "9d23124b",
   "metadata": {},
   "outputs": [],
   "source": [
    "df.Installs=df.Installs.str.replace(',','').str.replace('+','').astype('int64')"
   ]
  },
  {
   "cell_type": "code",
   "execution_count": 14,
   "id": "283fabe0",
   "metadata": {},
   "outputs": [
    {
     "data": {
      "text/plain": [
       "array([     10000,     500000,    5000000,   50000000,     100000,\n",
       "            50000,    1000000,   10000000,       5000,  100000000,\n",
       "             1000,  500000000,        100,        500,         10,\n",
       "       1000000000,          5,         50,          1], dtype=int64)"
      ]
     },
     "execution_count": 14,
     "metadata": {},
     "output_type": "execute_result"
    }
   ],
   "source": [
    "df['Installs'].unique()"
   ]
  },
  {
   "cell_type": "markdown",
   "id": "77b43687",
   "metadata": {},
   "source": [
    "# 4.4 Price field is a string and has dollar symbol. Remove dollar sign, and convert it to numeric."
   ]
  },
  {
   "cell_type": "code",
   "execution_count": 15,
   "id": "dffde34f",
   "metadata": {},
   "outputs": [
    {
     "data": {
      "text/plain": [
       "array(['0', '$4.99', '$6.99', '$7.99', '$3.99', '$5.99', '$2.99', '$1.99',\n",
       "       '$9.99', '$0.99', '$9.00', '$5.49', '$10.00', '$24.99', '$11.99',\n",
       "       '$79.99', '$16.99', '$14.99', '$29.99', '$12.99', '$3.49',\n",
       "       '$10.99', '$7.49', '$1.50', '$19.99', '$15.99', '$33.99', '$39.99',\n",
       "       '$2.49', '$4.49', '$1.70', '$1.49', '$3.88', '$399.99', '$17.99',\n",
       "       '$400.00', '$3.02', '$1.76', '$4.84', '$4.77', '$1.61', '$1.59',\n",
       "       '$6.49', '$1.29', '$299.99', '$379.99', '$37.99', '$18.99',\n",
       "       '$389.99', '$8.49', '$1.75', '$14.00', '$2.00', '$3.08', '$2.59',\n",
       "       '$19.40', '$15.46', '$8.99', '$3.04', '$13.99', '$4.29', '$3.28',\n",
       "       '$4.60', '$1.00', '$2.90', '$1.97', '$2.56', '$1.20'], dtype=object)"
      ]
     },
     "execution_count": 15,
     "metadata": {},
     "output_type": "execute_result"
    }
   ],
   "source": [
    "df['Price'].unique()"
   ]
  },
  {
   "cell_type": "code",
   "execution_count": 16,
   "id": "53e02baf",
   "metadata": {},
   "outputs": [],
   "source": [
    "df.Price=df.Price.str.replace('$','').astype('float64')"
   ]
  },
  {
   "cell_type": "code",
   "execution_count": 17,
   "id": "a2382366",
   "metadata": {},
   "outputs": [
    {
     "data": {
      "text/plain": [
       "array([  0.  ,   4.99,   6.99,   7.99,   3.99,   5.99,   2.99,   1.99,\n",
       "         9.99,   0.99,   9.  ,   5.49,  10.  ,  24.99,  11.99,  79.99,\n",
       "        16.99,  14.99,  29.99,  12.99,   3.49,  10.99,   7.49,   1.5 ,\n",
       "        19.99,  15.99,  33.99,  39.99,   2.49,   4.49,   1.7 ,   1.49,\n",
       "         3.88, 399.99,  17.99, 400.  ,   3.02,   1.76,   4.84,   4.77,\n",
       "         1.61,   1.59,   6.49,   1.29, 299.99, 379.99,  37.99,  18.99,\n",
       "       389.99,   8.49,   1.75,  14.  ,   2.  ,   3.08,   2.59,  19.4 ,\n",
       "        15.46,   8.99,   3.04,  13.99,   4.29,   3.28,   4.6 ,   1.  ,\n",
       "         2.9 ,   1.97,   2.56,   1.2 ])"
      ]
     },
     "execution_count": 17,
     "metadata": {},
     "output_type": "execute_result"
    }
   ],
   "source": [
    "df['Price'].unique()"
   ]
  },
  {
   "cell_type": "code",
   "execution_count": 18,
   "id": "009e256d",
   "metadata": {},
   "outputs": [
    {
     "data": {
      "text/plain": [
       "dtype('float64')"
      ]
     },
     "execution_count": 18,
     "metadata": {},
     "output_type": "execute_result"
    }
   ],
   "source": [
    "df.Price.dtype"
   ]
  },
  {
   "cell_type": "markdown",
   "id": "43dc32de",
   "metadata": {},
   "source": [
    "# 5. Sanity checks:"
   ]
  },
  {
   "cell_type": "markdown",
   "id": "f5ae1edf",
   "metadata": {},
   "source": [
    "# 5.1 Average rating should be between 1 and 5 as only these values are allowed on the play store. Drop the rows that have a value outside this range."
   ]
  },
  {
   "cell_type": "code",
   "execution_count": 19,
   "id": "95d5caf9",
   "metadata": {},
   "outputs": [
    {
     "name": "stdout",
     "output_type": "stream",
     "text": [
      "Data Frame size :  (7723, 13)  count of rows containing WRONG Rating :  False    7723\n",
      "Name: Rating, dtype: int64\n"
     ]
    }
   ],
   "source": [
    "filter=(df.Rating < 1) | (df.Rating > 5)\n",
    "print(\"Data Frame size : \", df.shape, \" count of rows containing WRONG Rating : \",filter.value_counts())"
   ]
  },
  {
   "cell_type": "markdown",
   "id": "d585cf4c",
   "metadata": {},
   "source": [
    "All the ratings are proper."
   ]
  },
  {
   "cell_type": "markdown",
   "id": "acf177c1",
   "metadata": {},
   "source": [
    "# 5.2 Reviews should not be more than installs as only those who installed can review the app. If there are any such records, drop them."
   ]
  },
  {
   "cell_type": "code",
   "execution_count": 20,
   "id": "816ce15b",
   "metadata": {},
   "outputs": [
    {
     "data": {
      "text/plain": [
       "(7717, 13)"
      ]
     },
     "execution_count": 20,
     "metadata": {},
     "output_type": "execute_result"
    }
   ],
   "source": [
    "rows=df[df.Installs < df.Reviews].index\n",
    "df.drop(rows,axis=0,inplace=True)\n",
    "df.shape"
   ]
  },
  {
   "cell_type": "markdown",
   "id": "4d370e07",
   "metadata": {},
   "source": [
    "# 5.3 For free apps (type = “Free”), the price should not be >0. Drop any such rows."
   ]
  },
  {
   "cell_type": "code",
   "execution_count": 21,
   "id": "9af524f9",
   "metadata": {},
   "outputs": [
    {
     "data": {
      "text/plain": [
       "Int64Index([], dtype='int64')"
      ]
     },
     "execution_count": 21,
     "metadata": {},
     "output_type": "execute_result"
    }
   ],
   "source": [
    "rows=df[(df.Type.str.lower()=='free' )& (df.Price > 0)].index\n",
    "rows"
   ]
  },
  {
   "cell_type": "markdown",
   "id": "292d22db",
   "metadata": {},
   "source": [
    "No case with App type as FREE and price greater than 0"
   ]
  },
  {
   "cell_type": "markdown",
   "id": "52bc6695",
   "metadata": {},
   "source": [
    "# 6. Performing univariate analysis:"
   ]
  },
  {
   "cell_type": "markdown",
   "id": "a7cea134",
   "metadata": {},
   "source": [
    "# 6.1 Boxplot for Price"
   ]
  },
  {
   "cell_type": "code",
   "execution_count": 22,
   "id": "0119b967",
   "metadata": {},
   "outputs": [
    {
     "data": {
      "text/plain": [
       "<AxesSubplot:xlabel='Price'>"
      ]
     },
     "execution_count": 22,
     "metadata": {},
     "output_type": "execute_result"
    },
    {
     "data": {
      "image/png": "[encoded data removed]",
      "text/plain": [
       "<Figure size 432x288 with 1 Axes>"
      ]
     },
     "metadata": {
      "needs_background": "light"
     },
     "output_type": "display_data"
    }
   ],
   "source": [
    "import seaborn as sns\n",
    "sns.boxplot(df.Price)"
   ]
  },
  {
   "cell_type": "markdown",
   "id": "a6f113c1",
   "metadata": {},
   "source": [
    "Question : Are there any outliers? Think about the price of usual apps on Play Store."
   ]
  },
  {
   "cell_type": "markdown",
   "id": "9bee43e4",
   "metadata": {},
   "source": [
    "Answer:   Yes there are outliers the rows with price greater than $250 need to be removed"
   ]
  },
  {
   "cell_type": "markdown",
   "id": "1b49b6e9",
   "metadata": {},
   "source": [
    "# 6.2 Boxplot for Reviews"
   ]
  },
  {
   "cell_type": "code",
   "execution_count": 23,
   "id": "67122c87",
   "metadata": {},
   "outputs": [
    {
     "data": {
      "text/plain": [
       "<AxesSubplot:xlabel='Reviews'>"
      ]
     },
     "execution_count": 23,
     "metadata": {},
     "output_type": "execute_result"
    },
    {
     "data": {
      "image/png": "[encoded data removed]",
      "text/plain": [
       "<Figure size 432x288 with 1 Axes>"
      ]
     },
     "metadata": {
      "needs_background": "light"
     },
     "output_type": "display_data"
    }
   ],
   "source": [
    "sns.boxplot(x='Reviews',data=df)"
   ]
  },
  {
   "cell_type": "markdown",
   "id": "69241d04",
   "metadata": {},
   "source": [
    "Question : Are there any apps with very high number of reviews? Do the values seem right?"
   ]
  },
  {
   "cell_type": "markdown",
   "id": "813bb104",
   "metadata": {},
   "source": [
    "Answer : There is one, the value seems correct because its in limit."
   ]
  },
  {
   "cell_type": "markdown",
   "id": "a651d295",
   "metadata": {},
   "source": [
    "# 6.3 Histogram for Rating"
   ]
  },
  {
   "cell_type": "code",
   "execution_count": 24,
   "id": "791724e8",
   "metadata": {},
   "outputs": [
    {
     "data": {
      "text/plain": [
       "(array([  17.,   18.,   39.,   72.,  132.,  408.,  781., 1406., 3212.,\n",
       "        1632.]),\n",
       " array([1. , 1.4, 1.8, 2.2, 2.6, 3. , 3.4, 3.8, 4.2, 4.6, 5. ]),\n",
       " <BarContainer object of 10 artists>)"
      ]
     },
     "execution_count": 24,
     "metadata": {},
     "output_type": "execute_result"
    },
    {
     "data": {
      "image/png": "[encoded data removed]",
      "text/plain": [
       "<Figure size 432x288 with 1 Axes>"
      ]
     },
     "metadata": {
      "needs_background": "light"
     },
     "output_type": "display_data"
    }
   ],
   "source": [
    "plt.hist(df.Rating)"
   ]
  },
  {
   "cell_type": "markdown",
   "id": "367b38eb",
   "metadata": {},
   "source": [
    "Question : How are the ratings distributed? Is it more toward higher ratings?"
   ]
  },
  {
   "cell_type": "markdown",
   "id": "db2cd1e0",
   "metadata": {},
   "source": [
    "Answer : Yes, the ratings are distributed towards higher ratings."
   ]
  },
  {
   "cell_type": "markdown",
   "id": "09499f47",
   "metadata": {},
   "source": [
    "# 6.4 Histogram for Size"
   ]
  },
  {
   "cell_type": "code",
   "execution_count": 25,
   "id": "1814f974",
   "metadata": {},
   "outputs": [
    {
     "data": {
      "text/plain": [
       "(array([3245., 1398.,  991.,  606.,  449.,  325.,  226.,  161.,  117.,\n",
       "         199.]),\n",
       " array([8.500000e+00, 1.000765e+04, 2.000680e+04, 3.000595e+04,\n",
       "        4.000510e+04, 5.000425e+04, 6.000340e+04, 7.000255e+04,\n",
       "        8.000170e+04, 9.000085e+04, 1.000000e+05]),\n",
       " <BarContainer object of 10 artists>)"
      ]
     },
     "execution_count": 25,
     "metadata": {},
     "output_type": "execute_result"
    },
    {
     "data": {
      "image/png": "[encoded data removed]",
      "text/plain": [
       "<Figure size 432x288 with 1 Axes>"
      ]
     },
     "metadata": {
      "needs_background": "light"
     },
     "output_type": "display_data"
    }
   ],
   "source": [
    "plt.hist(df.Size)"
   ]
  },
  {
   "cell_type": "markdown",
   "id": "e9c18861",
   "metadata": {},
   "source": [
    "# 7. Outlier treatment:"
   ]
  },
  {
   "cell_type": "markdown",
   "id": "f4268617",
   "metadata": {},
   "source": [
    "# 7.1 Price: From the box plot, it seems like there are some apps with very high price. "
   ]
  },
  {
   "cell_type": "markdown",
   "id": "58d89e90",
   "metadata": {},
   "source": [
    "A price of $200 for an application on the Play Store is very high and suspicious!\n",
    "Check out the records with very high price Is 200 indeed a high price? Drop these as most seem to be junk apps."
   ]
  },
  {
   "cell_type": "code",
   "execution_count": 26,
   "id": "7537030d",
   "metadata": {},
   "outputs": [
    {
     "data": {
      "text/plain": [
       "array([  0.  ,   4.99,   6.99,   7.99,   3.99,   5.99,   2.99,   1.99,\n",
       "         9.99,   0.99,   9.  ,   5.49,  10.  ,  24.99,  11.99,  79.99,\n",
       "        16.99,  14.99,  29.99,  12.99,   3.49,  10.99,   7.49,   1.5 ,\n",
       "        19.99,  15.99,  33.99,  39.99,   2.49,   4.49,   1.7 ,   1.49,\n",
       "         3.88, 399.99,  17.99, 400.  ,   3.02,   1.76,   4.84,   4.77,\n",
       "         1.61,   1.59,   6.49,   1.29, 299.99, 379.99,  37.99,  18.99,\n",
       "       389.99,   8.49,   1.75,  14.  ,   2.  ,   3.08,   2.59,  19.4 ,\n",
       "        15.46,   8.99,   3.04,  13.99,   4.29,   3.28,   4.6 ,   1.  ,\n",
       "         2.9 ,   1.97,   2.56,   1.2 ])"
      ]
     },
     "execution_count": 26,
     "metadata": {},
     "output_type": "execute_result"
    }
   ],
   "source": [
    "df['Price'].unique()"
   ]
  },
  {
   "cell_type": "markdown",
   "id": "4ec9635a",
   "metadata": {},
   "source": [
    "Yes $200 is a high price."
   ]
  },
  {
   "cell_type": "code",
   "execution_count": 27,
   "id": "e312a642",
   "metadata": {},
   "outputs": [
    {
     "data": {
      "text/plain": [
       "(7702, 13)"
      ]
     },
     "execution_count": 27,
     "metadata": {},
     "output_type": "execute_result"
    }
   ],
   "source": [
    "df.drop(df[df.Price>200].index,axis=0,inplace=True)\n",
    "df.shape"
   ]
  },
  {
   "cell_type": "code",
   "execution_count": 28,
   "id": "a69f93c2",
   "metadata": {},
   "outputs": [
    {
     "data": {
      "text/plain": [
       "array([ 0.  ,  4.99,  6.99,  7.99,  3.99,  5.99,  2.99,  1.99,  9.99,\n",
       "        0.99,  9.  ,  5.49, 10.  , 24.99, 11.99, 79.99, 16.99, 14.99,\n",
       "       29.99, 12.99,  3.49, 10.99,  7.49,  1.5 , 19.99, 15.99, 33.99,\n",
       "       39.99,  2.49,  4.49,  1.7 ,  1.49,  3.88, 17.99,  3.02,  1.76,\n",
       "        4.84,  4.77,  1.61,  1.59,  6.49,  1.29, 37.99, 18.99,  8.49,\n",
       "        1.75, 14.  ,  2.  ,  3.08,  2.59, 19.4 , 15.46,  8.99,  3.04,\n",
       "       13.99,  4.29,  3.28,  4.6 ,  1.  ,  2.9 ,  1.97,  2.56,  1.2 ])"
      ]
     },
     "execution_count": 28,
     "metadata": {},
     "output_type": "execute_result"
    }
   ],
   "source": [
    "df['Price'].unique()"
   ]
  },
  {
   "cell_type": "markdown",
   "id": "ad02c3ed",
   "metadata": {},
   "source": [
    "# 7.2 Reviews: Very few apps have very high number of reviews. These are all star apps that don’t help with the analysis and, in fact, will skew it. Drop records having more than 2 million reviews."
   ]
  },
  {
   "cell_type": "code",
   "execution_count": 30,
   "id": "58e9731b",
   "metadata": {},
   "outputs": [
    {
     "data": {
      "text/plain": [
       "(7483, 13)"
      ]
     },
     "execution_count": 30,
     "metadata": {},
     "output_type": "execute_result"
    }
   ],
   "source": [
    "df.drop(df[df.Reviews>2000000].index,axis=0,inplace=True)\n",
    "df.shape"
   ]
  },
  {
   "cell_type": "markdown",
   "id": "3a076e66",
   "metadata": {},
   "source": [
    "# 7.3 Installs: There seems to be some outliers in this field too. Apps having very high number of installs should be dropped from the analysis."
   ]
  },
  {
   "cell_type": "markdown",
   "id": "4f15882b",
   "metadata": {},
   "source": [
    "Find out the different percentiles – 10, 25, 50, 70, 90, 95, 99 Decide a threshold as cutoff for outlier and drop records\n",
    "having values more than that"
   ]
  },
  {
   "cell_type": "code",
   "execution_count": 31,
   "id": "05e6d864",
   "metadata": {},
   "outputs": [
    {
     "data": {
      "text/plain": [
       "0.10        1000.0\n",
       "0.25       10000.0\n",
       "0.50      100000.0\n",
       "0.70     1000000.0\n",
       "0.90    10000000.0\n",
       "0.95    10000000.0\n",
       "0.99    50000000.0\n",
       "Name: Installs, dtype: float64"
      ]
     },
     "execution_count": 31,
     "metadata": {},
     "output_type": "execute_result"
    }
   ],
   "source": [
    "df.Installs.quantile([0.1, 0.25, 0.5, 0.70, 0.9, 0.95, 0.99])"
   ]
  },
  {
   "cell_type": "markdown",
   "id": "1a2c1a08",
   "metadata": {},
   "source": [
    "Taking 10000000 as the cutoff as only 5% records have values more than this"
   ]
  },
  {
   "cell_type": "code",
   "execution_count": 32,
   "id": "98211383",
   "metadata": {},
   "outputs": [
    {
     "data": {
      "text/plain": [
       "(6489, 13)"
      ]
     },
     "execution_count": 32,
     "metadata": {},
     "output_type": "execute_result"
    }
   ],
   "source": [
    "df=df[df.Installs<10000000]\n",
    "df.shape"
   ]
  },
  {
   "cell_type": "markdown",
   "id": "601455f6",
   "metadata": {},
   "source": [
    "# 8.  Bivariate analysis: Let’s look at how the available predictors relate to the variable of interest, i.e., our target variable rating. Make scatter plots (for numeric features) and box plots (for character features) to assess the relations between rating and the other features."
   ]
  },
  {
   "cell_type": "markdown",
   "id": "ff974dba",
   "metadata": {},
   "source": [
    "# 8.1 Make scatter plot/joinplot for Rating vs. Price"
   ]
  },
  {
   "cell_type": "code",
   "execution_count": 33,
   "id": "0d335afb",
   "metadata": {},
   "outputs": [
    {
     "data": {
      "text/plain": [
       "<matplotlib.collections.PathCollection at 0x1b1a0e4a910>"
      ]
     },
     "execution_count": 33,
     "metadata": {},
     "output_type": "execute_result"
    },
    {
     "data": {
      "image/png": "[encoded data removed]",
      "text/plain": [
       "<Figure size 432x288 with 1 Axes>"
      ]
     },
     "metadata": {
      "needs_background": "light"
     },
     "output_type": "display_data"
    }
   ],
   "source": [
    "plt.scatter(x=df.Price,y=df.Rating)"
   ]
  },
  {
   "cell_type": "markdown",
   "id": "7188b8eb",
   "metadata": {},
   "source": [
    "Question : What pattern do you observe? Does rating increase with price?"
   ]
  },
  {
   "cell_type": "markdown",
   "id": "3a8a1406",
   "metadata": {},
   "source": [
    "Answer : Rating doesn't increase with price"
   ]
  },
  {
   "cell_type": "markdown",
   "id": "44305ab7",
   "metadata": {},
   "source": [
    "# 8.2 Make scatter plot/joinplot for Rating vs. Size"
   ]
  },
  {
   "cell_type": "code",
   "execution_count": 34,
   "id": "0ae3e919",
   "metadata": {},
   "outputs": [
    {
     "data": {
      "text/plain": [
       "<matplotlib.collections.PathCollection at 0x1b1a0ebf0a0>"
      ]
     },
     "execution_count": 34,
     "metadata": {},
     "output_type": "execute_result"
    },
    {
     "data": {
      "image/png": "[encoded data removed]",
      "text/plain": [
       "<Figure size 432x288 with 1 Axes>"
      ]
     },
     "metadata": {
      "needs_background": "light"
     },
     "output_type": "display_data"
    }
   ],
   "source": [
    "plt.scatter(x=df.Size,y=df.Rating)"
   ]
  },
  {
   "cell_type": "markdown",
   "id": "a3cb76c3",
   "metadata": {},
   "source": [
    "Question: Are heavier apps rated better?"
   ]
  },
  {
   "cell_type": "markdown",
   "id": "abcd3fad",
   "metadata": {},
   "source": [
    "Answer: It can be observed that heavier apps are having higher rating"
   ]
  },
  {
   "cell_type": "markdown",
   "id": "183a1c82",
   "metadata": {},
   "source": [
    "# 8.3 Make scatter plot/joinplot for Rating vs. Reviews"
   ]
  },
  {
   "cell_type": "code",
   "execution_count": 36,
   "id": "d0c9ef15",
   "metadata": {},
   "outputs": [
    {
     "data": {
      "text/plain": [
       "<matplotlib.collections.PathCollection at 0x1b1a0f17940>"
      ]
     },
     "execution_count": 36,
     "metadata": {},
     "output_type": "execute_result"
    },
    {
     "data": {
      "image/png": "[encoded data removed]",
      "text/plain": [
       "<Figure size 432x288 with 1 Axes>"
      ]
     },
     "metadata": {
      "needs_background": "light"
     },
     "output_type": "display_data"
    }
   ],
   "source": [
    "plt.scatter(x=df.Reviews,y=df.Rating)"
   ]
  },
  {
   "cell_type": "markdown",
   "id": "ce338784",
   "metadata": {},
   "source": [
    "Question : Does more review mean a better rating always?"
   ]
  },
  {
   "cell_type": "markdown",
   "id": "c7b21a2a",
   "metadata": {},
   "source": [
    "Answer : Scatter plot indicates higher rating for apps having Max reviews. But this cannot be always it could be an outlier."
   ]
  },
  {
   "cell_type": "markdown",
   "id": "a0da2ce8",
   "metadata": {},
   "source": [
    "# 8.4 Make boxplot for Rating vs. Content Rating"
   ]
  },
  {
   "cell_type": "code",
   "execution_count": 37,
   "id": "b93309b5",
   "metadata": {},
   "outputs": [
    {
     "data": {
      "text/plain": [
       "<AxesSubplot:xlabel='Content Rating', ylabel='Rating'>"
      ]
     },
     "execution_count": 37,
     "metadata": {},
     "output_type": "execute_result"
    },
    {
     "data": {
      "image/png": "[encoded data removed]",
      "text/plain": [
       "<Figure size 864x432 with 1 Axes>"
      ]
     },
     "metadata": {
      "needs_background": "light"
     },
     "output_type": "display_data"
    }
   ],
   "source": [
    "plt.figure(figsize=[12,6])\n",
    "sns.boxplot(y='Rating',x='Content Rating',data=df)"
   ]
  },
  {
   "cell_type": "markdown",
   "id": "6ce68f9b",
   "metadata": {},
   "source": [
    "Question : Is there any difference in the ratings? Are some types liked better?"
   ]
  },
  {
   "cell_type": "markdown",
   "id": "eae4c931",
   "metadata": {},
   "source": [
    "Answer : Not much conclusion could be drawn as the plot is almost same for Content Ratings, except Adults only 18+ & Unrated."
   ]
  },
  {
   "cell_type": "markdown",
   "id": "a50203e2",
   "metadata": {},
   "source": [
    "# 8.5 Make boxplot for Ratings vs. Category"
   ]
  },
  {
   "cell_type": "code",
   "execution_count": 38,
   "id": "b264706d",
   "metadata": {},
   "outputs": [
    {
     "data": {
      "text/plain": [
       "(array([ 0,  1,  2,  3,  4,  5,  6,  7,  8,  9, 10, 11, 12, 13, 14, 15, 16,\n",
       "        17, 18, 19, 20, 21, 22, 23, 24, 25, 26, 27, 28, 29, 30, 31, 32]),\n",
       " [Text(0, 0, 'ART_AND_DESIGN'),\n",
       "  Text(1, 0, 'AUTO_AND_VEHICLES'),\n",
       "  Text(2, 0, 'BEAUTY'),\n",
       "  Text(3, 0, 'BOOKS_AND_REFERENCE'),\n",
       "  Text(4, 0, 'BUSINESS'),\n",
       "  Text(5, 0, 'COMICS'),\n",
       "  Text(6, 0, 'COMMUNICATION'),\n",
       "  Text(7, 0, 'DATING'),\n",
       "  Text(8, 0, 'EDUCATION'),\n",
       "  Text(9, 0, 'ENTERTAINMENT'),\n",
       "  Text(10, 0, 'EVENTS'),\n",
       "  Text(11, 0, 'FINANCE'),\n",
       "  Text(12, 0, 'FOOD_AND_DRINK'),\n",
       "  Text(13, 0, 'HEALTH_AND_FITNESS'),\n",
       "  Text(14, 0, 'HOUSE_AND_HOME'),\n",
       "  Text(15, 0, 'LIBRARIES_AND_DEMO'),\n",
       "  Text(16, 0, 'LIFESTYLE'),\n",
       "  Text(17, 0, 'GAME'),\n",
       "  Text(18, 0, 'FAMILY'),\n",
       "  Text(19, 0, 'MEDICAL'),\n",
       "  Text(20, 0, 'SOCIAL'),\n",
       "  Text(21, 0, 'SHOPPING'),\n",
       "  Text(22, 0, 'PHOTOGRAPHY'),\n",
       "  Text(23, 0, 'SPORTS'),\n",
       "  Text(24, 0, 'TRAVEL_AND_LOCAL'),\n",
       "  Text(25, 0, 'TOOLS'),\n",
       "  Text(26, 0, 'PERSONALIZATION'),\n",
       "  Text(27, 0, 'PRODUCTIVITY'),\n",
       "  Text(28, 0, 'PARENTING'),\n",
       "  Text(29, 0, 'WEATHER'),\n",
       "  Text(30, 0, 'VIDEO_PLAYERS'),\n",
       "  Text(31, 0, 'NEWS_AND_MAGAZINES'),\n",
       "  Text(32, 0, 'MAPS_AND_NAVIGATION')])"
      ]
     },
     "execution_count": 38,
     "metadata": {},
     "output_type": "execute_result"
    },
    {
     "data": {
      "image/png": "[encoded data removed]",
      "text/plain": [
       "<Figure size 1728x432 with 1 Axes>"
      ]
     },
     "metadata": {
      "needs_background": "light"
     },
     "output_type": "display_data"
    }
   ],
   "source": [
    "plt.figure(figsize=[24,6])\n",
    "sns.boxplot(y='Rating',x='Category',data=df)\n",
    "plt.xticks(rotation=90)"
   ]
  },
  {
   "cell_type": "markdown",
   "id": "8fb0647e",
   "metadata": {},
   "source": [
    "Question : Which genre has the best ratings?"
   ]
  },
  {
   "cell_type": "markdown",
   "id": "376d4e69",
   "metadata": {},
   "source": [
    "Answer : ART_AND_DESIGN and EVENTS"
   ]
  },
  {
   "cell_type": "markdown",
   "id": "525166f2",
   "metadata": {},
   "source": [
    "# 9. Data preprocessing"
   ]
  },
  {
   "cell_type": "markdown",
   "id": "496dc316",
   "metadata": {},
   "source": [
    "For the steps below, create a copy of the dataframe to make all the edits. Name it inp1."
   ]
  },
  {
   "cell_type": "code",
   "execution_count": 39,
   "id": "3b5422a0",
   "metadata": {},
   "outputs": [
    {
     "data": {
      "text/html": [
       "<div>\n",
       "<style scoped>\n",
       "    .dataframe tbody tr th:only-of-type {\n",
       "        vertical-align: middle;\n",
       "    }\n",
       "\n",
       "    .dataframe tbody tr th {\n",
       "        vertical-align: top;\n",
       "    }\n",
       "\n",
       "    .dataframe thead th {\n",
       "        text-align: right;\n",
       "    }\n",
       "</style>\n",
       "<table border=\"1\" class=\"dataframe\">\n",
       "  <thead>\n",
       "    <tr style=\"text-align: right;\">\n",
       "      <th></th>\n",
       "      <th>App</th>\n",
       "      <th>Category</th>\n",
       "      <th>Rating</th>\n",
       "      <th>Reviews</th>\n",
       "      <th>Size</th>\n",
       "      <th>Installs</th>\n",
       "      <th>Type</th>\n",
       "      <th>Price</th>\n",
       "      <th>Content Rating</th>\n",
       "      <th>Genres</th>\n",
       "      <th>Last Updated</th>\n",
       "      <th>Current Ver</th>\n",
       "      <th>Android Ver</th>\n",
       "    </tr>\n",
       "  </thead>\n",
       "  <tbody>\n",
       "    <tr>\n",
       "      <th>0</th>\n",
       "      <td>Photo Editor &amp; Candy Camera &amp; Grid &amp; ScrapBook</td>\n",
       "      <td>ART_AND_DESIGN</td>\n",
       "      <td>4.1</td>\n",
       "      <td>159.0</td>\n",
       "      <td>19000.0</td>\n",
       "      <td>10000</td>\n",
       "      <td>Free</td>\n",
       "      <td>0.0</td>\n",
       "      <td>Everyone</td>\n",
       "      <td>Art &amp; Design</td>\n",
       "      <td>January 7, 2018</td>\n",
       "      <td>1.0.0</td>\n",
       "      <td>4.0.3 and up</td>\n",
       "    </tr>\n",
       "    <tr>\n",
       "      <th>1</th>\n",
       "      <td>Coloring book moana</td>\n",
       "      <td>ART_AND_DESIGN</td>\n",
       "      <td>3.9</td>\n",
       "      <td>967.0</td>\n",
       "      <td>14000.0</td>\n",
       "      <td>500000</td>\n",
       "      <td>Free</td>\n",
       "      <td>0.0</td>\n",
       "      <td>Everyone</td>\n",
       "      <td>Art &amp; Design;Pretend Play</td>\n",
       "      <td>January 15, 2018</td>\n",
       "      <td>2.0.0</td>\n",
       "      <td>4.0.3 and up</td>\n",
       "    </tr>\n",
       "    <tr>\n",
       "      <th>2</th>\n",
       "      <td>U Launcher Lite – FREE Live Cool Themes, Hide ...</td>\n",
       "      <td>ART_AND_DESIGN</td>\n",
       "      <td>4.7</td>\n",
       "      <td>87510.0</td>\n",
       "      <td>8700.0</td>\n",
       "      <td>5000000</td>\n",
       "      <td>Free</td>\n",
       "      <td>0.0</td>\n",
       "      <td>Everyone</td>\n",
       "      <td>Art &amp; Design</td>\n",
       "      <td>August 1, 2018</td>\n",
       "      <td>1.2.4</td>\n",
       "      <td>4.0.3 and up</td>\n",
       "    </tr>\n",
       "    <tr>\n",
       "      <th>3</th>\n",
       "      <td>Pixel Draw - Number Art Coloring Book</td>\n",
       "      <td>ART_AND_DESIGN</td>\n",
       "      <td>4.3</td>\n",
       "      <td>967.0</td>\n",
       "      <td>2800.0</td>\n",
       "      <td>100000</td>\n",
       "      <td>Free</td>\n",
       "      <td>0.0</td>\n",
       "      <td>Everyone</td>\n",
       "      <td>Art &amp; Design;Creativity</td>\n",
       "      <td>June 20, 2018</td>\n",
       "      <td>1.1</td>\n",
       "      <td>4.4 and up</td>\n",
       "    </tr>\n",
       "    <tr>\n",
       "      <th>4</th>\n",
       "      <td>Paper flowers instructions</td>\n",
       "      <td>ART_AND_DESIGN</td>\n",
       "      <td>4.4</td>\n",
       "      <td>167.0</td>\n",
       "      <td>5600.0</td>\n",
       "      <td>50000</td>\n",
       "      <td>Free</td>\n",
       "      <td>0.0</td>\n",
       "      <td>Everyone</td>\n",
       "      <td>Art &amp; Design</td>\n",
       "      <td>March 26, 2017</td>\n",
       "      <td>1.0</td>\n",
       "      <td>2.3 and up</td>\n",
       "    </tr>\n",
       "  </tbody>\n",
       "</table>\n",
       "</div>"
      ],
      "text/plain": [
       "                                                 App        Category  Rating  \\\n",
       "0     Photo Editor & Candy Camera & Grid & ScrapBook  ART_AND_DESIGN     4.1   \n",
       "1                                Coloring book moana  ART_AND_DESIGN     3.9   \n",
       "2  U Launcher Lite – FREE Live Cool Themes, Hide ...  ART_AND_DESIGN     4.7   \n",
       "3              Pixel Draw - Number Art Coloring Book  ART_AND_DESIGN     4.3   \n",
       "4                         Paper flowers instructions  ART_AND_DESIGN     4.4   \n",
       "\n",
       "   Reviews     Size  Installs  Type  Price Content Rating  \\\n",
       "0    159.0  19000.0     10000  Free    0.0       Everyone   \n",
       "1    967.0  14000.0    500000  Free    0.0       Everyone   \n",
       "2  87510.0   8700.0   5000000  Free    0.0       Everyone   \n",
       "3    967.0   2800.0    100000  Free    0.0       Everyone   \n",
       "4    167.0   5600.0     50000  Free    0.0       Everyone   \n",
       "\n",
       "                      Genres      Last Updated Current Ver   Android Ver  \n",
       "0               Art & Design   January 7, 2018       1.0.0  4.0.3 and up  \n",
       "1  Art & Design;Pretend Play  January 15, 2018       2.0.0  4.0.3 and up  \n",
       "2               Art & Design    August 1, 2018       1.2.4  4.0.3 and up  \n",
       "3    Art & Design;Creativity     June 20, 2018         1.1    4.4 and up  \n",
       "4               Art & Design    March 26, 2017         1.0    2.3 and up  "
      ]
     },
     "execution_count": 39,
     "metadata": {},
     "output_type": "execute_result"
    }
   ],
   "source": [
    "inp1=df\n",
    "inp1.reset_index(drop=True,inplace=True)\n",
    "inp1.head()"
   ]
  },
  {
   "cell_type": "markdown",
   "id": "ddceac8a",
   "metadata": {},
   "source": [
    "# 9.1 Reviews and Install have some values that are still relatively very high. Before building a linear regression model, you need to reduce the skew. Apply log transformation (np.log1p) to Reviews and Installs."
   ]
  },
  {
   "cell_type": "code",
   "execution_count": 40,
   "id": "c3cda49a",
   "metadata": {},
   "outputs": [
    {
     "data": {
      "text/html": [
       "<div>\n",
       "<style scoped>\n",
       "    .dataframe tbody tr th:only-of-type {\n",
       "        vertical-align: middle;\n",
       "    }\n",
       "\n",
       "    .dataframe tbody tr th {\n",
       "        vertical-align: top;\n",
       "    }\n",
       "\n",
       "    .dataframe thead th {\n",
       "        text-align: right;\n",
       "    }\n",
       "</style>\n",
       "<table border=\"1\" class=\"dataframe\">\n",
       "  <thead>\n",
       "    <tr style=\"text-align: right;\">\n",
       "      <th></th>\n",
       "      <th>App</th>\n",
       "      <th>Category</th>\n",
       "      <th>Rating</th>\n",
       "      <th>Reviews</th>\n",
       "      <th>Size</th>\n",
       "      <th>Installs</th>\n",
       "      <th>Type</th>\n",
       "      <th>Price</th>\n",
       "      <th>Content Rating</th>\n",
       "      <th>Genres</th>\n",
       "      <th>Last Updated</th>\n",
       "      <th>Current Ver</th>\n",
       "      <th>Android Ver</th>\n",
       "    </tr>\n",
       "  </thead>\n",
       "  <tbody>\n",
       "    <tr>\n",
       "      <th>0</th>\n",
       "      <td>Photo Editor &amp; Candy Camera &amp; Grid &amp; ScrapBook</td>\n",
       "      <td>ART_AND_DESIGN</td>\n",
       "      <td>4.1</td>\n",
       "      <td>5.075174</td>\n",
       "      <td>19000.0</td>\n",
       "      <td>9.210440</td>\n",
       "      <td>Free</td>\n",
       "      <td>0.0</td>\n",
       "      <td>Everyone</td>\n",
       "      <td>Art &amp; Design</td>\n",
       "      <td>January 7, 2018</td>\n",
       "      <td>1.0.0</td>\n",
       "      <td>4.0.3 and up</td>\n",
       "    </tr>\n",
       "    <tr>\n",
       "      <th>1</th>\n",
       "      <td>Coloring book moana</td>\n",
       "      <td>ART_AND_DESIGN</td>\n",
       "      <td>3.9</td>\n",
       "      <td>6.875232</td>\n",
       "      <td>14000.0</td>\n",
       "      <td>13.122365</td>\n",
       "      <td>Free</td>\n",
       "      <td>0.0</td>\n",
       "      <td>Everyone</td>\n",
       "      <td>Art &amp; Design;Pretend Play</td>\n",
       "      <td>January 15, 2018</td>\n",
       "      <td>2.0.0</td>\n",
       "      <td>4.0.3 and up</td>\n",
       "    </tr>\n",
       "    <tr>\n",
       "      <th>2</th>\n",
       "      <td>U Launcher Lite – FREE Live Cool Themes, Hide ...</td>\n",
       "      <td>ART_AND_DESIGN</td>\n",
       "      <td>4.7</td>\n",
       "      <td>11.379520</td>\n",
       "      <td>8700.0</td>\n",
       "      <td>15.424949</td>\n",
       "      <td>Free</td>\n",
       "      <td>0.0</td>\n",
       "      <td>Everyone</td>\n",
       "      <td>Art &amp; Design</td>\n",
       "      <td>August 1, 2018</td>\n",
       "      <td>1.2.4</td>\n",
       "      <td>4.0.3 and up</td>\n",
       "    </tr>\n",
       "    <tr>\n",
       "      <th>3</th>\n",
       "      <td>Pixel Draw - Number Art Coloring Book</td>\n",
       "      <td>ART_AND_DESIGN</td>\n",
       "      <td>4.3</td>\n",
       "      <td>6.875232</td>\n",
       "      <td>2800.0</td>\n",
       "      <td>11.512935</td>\n",
       "      <td>Free</td>\n",
       "      <td>0.0</td>\n",
       "      <td>Everyone</td>\n",
       "      <td>Art &amp; Design;Creativity</td>\n",
       "      <td>June 20, 2018</td>\n",
       "      <td>1.1</td>\n",
       "      <td>4.4 and up</td>\n",
       "    </tr>\n",
       "    <tr>\n",
       "      <th>4</th>\n",
       "      <td>Paper flowers instructions</td>\n",
       "      <td>ART_AND_DESIGN</td>\n",
       "      <td>4.4</td>\n",
       "      <td>5.123964</td>\n",
       "      <td>5600.0</td>\n",
       "      <td>10.819798</td>\n",
       "      <td>Free</td>\n",
       "      <td>0.0</td>\n",
       "      <td>Everyone</td>\n",
       "      <td>Art &amp; Design</td>\n",
       "      <td>March 26, 2017</td>\n",
       "      <td>1.0</td>\n",
       "      <td>2.3 and up</td>\n",
       "    </tr>\n",
       "  </tbody>\n",
       "</table>\n",
       "</div>"
      ],
      "text/plain": [
       "                                                 App        Category  Rating  \\\n",
       "0     Photo Editor & Candy Camera & Grid & ScrapBook  ART_AND_DESIGN     4.1   \n",
       "1                                Coloring book moana  ART_AND_DESIGN     3.9   \n",
       "2  U Launcher Lite – FREE Live Cool Themes, Hide ...  ART_AND_DESIGN     4.7   \n",
       "3              Pixel Draw - Number Art Coloring Book  ART_AND_DESIGN     4.3   \n",
       "4                         Paper flowers instructions  ART_AND_DESIGN     4.4   \n",
       "\n",
       "     Reviews     Size   Installs  Type  Price Content Rating  \\\n",
       "0   5.075174  19000.0   9.210440  Free    0.0       Everyone   \n",
       "1   6.875232  14000.0  13.122365  Free    0.0       Everyone   \n",
       "2  11.379520   8700.0  15.424949  Free    0.0       Everyone   \n",
       "3   6.875232   2800.0  11.512935  Free    0.0       Everyone   \n",
       "4   5.123964   5600.0  10.819798  Free    0.0       Everyone   \n",
       "\n",
       "                      Genres      Last Updated Current Ver   Android Ver  \n",
       "0               Art & Design   January 7, 2018       1.0.0  4.0.3 and up  \n",
       "1  Art & Design;Pretend Play  January 15, 2018       2.0.0  4.0.3 and up  \n",
       "2               Art & Design    August 1, 2018       1.2.4  4.0.3 and up  \n",
       "3    Art & Design;Creativity     June 20, 2018         1.1    4.4 and up  \n",
       "4               Art & Design    March 26, 2017         1.0    2.3 and up  "
      ]
     },
     "execution_count": 40,
     "metadata": {},
     "output_type": "execute_result"
    }
   ],
   "source": [
    "inp1.Reviews=np.log1p(inp1.Reviews)\n",
    "inp1.Installs=np.log1p(inp1.Installs)\n",
    "inp1.head()"
   ]
  },
  {
   "cell_type": "markdown",
   "id": "720a38d6",
   "metadata": {},
   "source": [
    "# 9.2 drop columns App, Last Updated, Current Ver, and Android Ver. These variables are not useful for our task."
   ]
  },
  {
   "cell_type": "code",
   "execution_count": 41,
   "id": "b31b8c1a",
   "metadata": {},
   "outputs": [],
   "source": [
    "inp1.drop(['App', 'Last Updated', 'Current Ver','Android Ver'],axis=1,inplace=True)"
   ]
  },
  {
   "cell_type": "code",
   "execution_count": 42,
   "id": "70c4b36e",
   "metadata": {},
   "outputs": [
    {
     "data": {
      "text/html": [
       "<div>\n",
       "<style scoped>\n",
       "    .dataframe tbody tr th:only-of-type {\n",
       "        vertical-align: middle;\n",
       "    }\n",
       "\n",
       "    .dataframe tbody tr th {\n",
       "        vertical-align: top;\n",
       "    }\n",
       "\n",
       "    .dataframe thead th {\n",
       "        text-align: right;\n",
       "    }\n",
       "</style>\n",
       "<table border=\"1\" class=\"dataframe\">\n",
       "  <thead>\n",
       "    <tr style=\"text-align: right;\">\n",
       "      <th></th>\n",
       "      <th>Category</th>\n",
       "      <th>Rating</th>\n",
       "      <th>Reviews</th>\n",
       "      <th>Size</th>\n",
       "      <th>Installs</th>\n",
       "      <th>Type</th>\n",
       "      <th>Price</th>\n",
       "      <th>Content Rating</th>\n",
       "      <th>Genres</th>\n",
       "    </tr>\n",
       "  </thead>\n",
       "  <tbody>\n",
       "    <tr>\n",
       "      <th>0</th>\n",
       "      <td>ART_AND_DESIGN</td>\n",
       "      <td>4.1</td>\n",
       "      <td>5.075174</td>\n",
       "      <td>19000.0</td>\n",
       "      <td>9.210440</td>\n",
       "      <td>Free</td>\n",
       "      <td>0.0</td>\n",
       "      <td>Everyone</td>\n",
       "      <td>Art &amp; Design</td>\n",
       "    </tr>\n",
       "    <tr>\n",
       "      <th>1</th>\n",
       "      <td>ART_AND_DESIGN</td>\n",
       "      <td>3.9</td>\n",
       "      <td>6.875232</td>\n",
       "      <td>14000.0</td>\n",
       "      <td>13.122365</td>\n",
       "      <td>Free</td>\n",
       "      <td>0.0</td>\n",
       "      <td>Everyone</td>\n",
       "      <td>Art &amp; Design;Pretend Play</td>\n",
       "    </tr>\n",
       "    <tr>\n",
       "      <th>2</th>\n",
       "      <td>ART_AND_DESIGN</td>\n",
       "      <td>4.7</td>\n",
       "      <td>11.379520</td>\n",
       "      <td>8700.0</td>\n",
       "      <td>15.424949</td>\n",
       "      <td>Free</td>\n",
       "      <td>0.0</td>\n",
       "      <td>Everyone</td>\n",
       "      <td>Art &amp; Design</td>\n",
       "    </tr>\n",
       "    <tr>\n",
       "      <th>3</th>\n",
       "      <td>ART_AND_DESIGN</td>\n",
       "      <td>4.3</td>\n",
       "      <td>6.875232</td>\n",
       "      <td>2800.0</td>\n",
       "      <td>11.512935</td>\n",
       "      <td>Free</td>\n",
       "      <td>0.0</td>\n",
       "      <td>Everyone</td>\n",
       "      <td>Art &amp; Design;Creativity</td>\n",
       "    </tr>\n",
       "    <tr>\n",
       "      <th>4</th>\n",
       "      <td>ART_AND_DESIGN</td>\n",
       "      <td>4.4</td>\n",
       "      <td>5.123964</td>\n",
       "      <td>5600.0</td>\n",
       "      <td>10.819798</td>\n",
       "      <td>Free</td>\n",
       "      <td>0.0</td>\n",
       "      <td>Everyone</td>\n",
       "      <td>Art &amp; Design</td>\n",
       "    </tr>\n",
       "  </tbody>\n",
       "</table>\n",
       "</div>"
      ],
      "text/plain": [
       "         Category  Rating    Reviews     Size   Installs  Type  Price  \\\n",
       "0  ART_AND_DESIGN     4.1   5.075174  19000.0   9.210440  Free    0.0   \n",
       "1  ART_AND_DESIGN     3.9   6.875232  14000.0  13.122365  Free    0.0   \n",
       "2  ART_AND_DESIGN     4.7  11.379520   8700.0  15.424949  Free    0.0   \n",
       "3  ART_AND_DESIGN     4.3   6.875232   2800.0  11.512935  Free    0.0   \n",
       "4  ART_AND_DESIGN     4.4   5.123964   5600.0  10.819798  Free    0.0   \n",
       "\n",
       "  Content Rating                     Genres  \n",
       "0       Everyone               Art & Design  \n",
       "1       Everyone  Art & Design;Pretend Play  \n",
       "2       Everyone               Art & Design  \n",
       "3       Everyone    Art & Design;Creativity  \n",
       "4       Everyone               Art & Design  "
      ]
     },
     "execution_count": 42,
     "metadata": {},
     "output_type": "execute_result"
    }
   ],
   "source": [
    "inp1.head()"
   ]
  },
  {
   "cell_type": "markdown",
   "id": "6c98964e",
   "metadata": {},
   "source": [
    "# 9.3 Get dummy columns for Category, Genres, and Content Rating. This needs to be done as the models do not understand categorical data, and all data should be numeric. Dummy encoding is one way to convert character fields to numeric. Name of dataframe should be inp2."
   ]
  },
  {
   "cell_type": "code",
   "execution_count": 44,
   "id": "8f4c7d93",
   "metadata": {},
   "outputs": [
    {
     "data": {
      "text/plain": [
       "Index(['Rating', 'Reviews', 'Size', 'Installs', 'Price',\n",
       "       'Category_AUTO_AND_VEHICLES', 'Category_BEAUTY',\n",
       "       'Category_BOOKS_AND_REFERENCE', 'Category_BUSINESS', 'Category_COMICS',\n",
       "       ...\n",
       "       'Genres_Video Players & Editors;Creativity',\n",
       "       'Genres_Video Players & Editors;Music & Video', 'Genres_Weather',\n",
       "       'Genres_Word', 'Content Rating_Everyone', 'Content Rating_Everyone 10+',\n",
       "       'Content Rating_Mature 17+', 'Content Rating_Teen',\n",
       "       'Content Rating_Unrated', 'Type_Paid'],\n",
       "      dtype='object', length=150)"
      ]
     },
     "execution_count": 44,
     "metadata": {},
     "output_type": "execute_result"
    }
   ],
   "source": [
    "inp1=pd.get_dummies(inp1,columns=['Category', 'Genres', 'Content Rating','Type'],drop_first=True)\n",
    "inp2=inp1.copy()\n",
    "inp2.columns"
   ]
  },
  {
   "cell_type": "markdown",
   "id": "d7811da4",
   "metadata": {},
   "source": [
    "# 10. Train test split and apply 70-30 split. Name the new dataframes df_train and df_test."
   ]
  },
  {
   "cell_type": "code",
   "execution_count": 45,
   "id": "f3269f93",
   "metadata": {},
   "outputs": [],
   "source": [
    "from sklearn.model_selection import train_test_split\n",
    "df_train, df_test=train_test_split(inp2,test_size=0.3,random_state=100)"
   ]
  },
  {
   "cell_type": "markdown",
   "id": "937f8ff7",
   "metadata": {},
   "source": [
    "# 11. Separate the dataframes into X_train, y_train, X_test, and y_test"
   ]
  },
  {
   "cell_type": "markdown",
   "id": "7ed0767e",
   "metadata": {},
   "source": [
    "y_train=df_train.pop('Rating')\n",
    "X_train=df_train\n",
    "y_test=df_test.pop('Rating')\n",
    "X_test=df_test"
   ]
  },
  {
   "cell_type": "markdown",
   "id": "93f31526",
   "metadata": {},
   "source": [
    "# 12. Model building"
   ]
  },
  {
   "cell_type": "markdown",
   "id": "fa3bb408",
   "metadata": {},
   "source": [
    "Use linear regression as the technique. Report the R2 on the train set"
   ]
  },
  {
   "cell_type": "code",
   "execution_count": 47,
   "id": "4af5a173",
   "metadata": {},
   "outputs": [
    {
     "data": {
      "text/plain": [
       "0.14998979685933733"
      ]
     },
     "execution_count": 47,
     "metadata": {},
     "output_type": "execute_result"
    }
   ],
   "source": [
    "from sklearn.linear_model import LinearRegression\n",
    "lm=LinearRegression()\n",
    "lm.fit(X_train,y_train)\n",
    "\n",
    "from sklearn.metrics import r2_score\n",
    "y_train_predict=lm.predict(X_train)\n",
    "r2_score(y_train,y_train_predict)"
   ]
  },
  {
   "cell_type": "markdown",
   "id": "0b5f56cd",
   "metadata": {},
   "source": [
    "# 13. Make predictions on test set and report R2"
   ]
  },
  {
   "cell_type": "code",
   "execution_count": 48,
   "id": "1b2be1fd",
   "metadata": {},
   "outputs": [
    {
     "data": {
      "text/plain": [
       "0.11430599857819435"
      ]
     },
     "execution_count": 48,
     "metadata": {},
     "output_type": "execute_result"
    }
   ],
   "source": [
    "X_test_prect=lm.predict(X_test)\n",
    "r2_score(y_test,X_test_prect)"
   ]
  },
  {
   "cell_type": "markdown",
   "id": "41b63442",
   "metadata": {},
   "source": [
    "Conclusion : Here the model does not perform well, because the model is very simple and the dataset is little complex."
   ]
  },
  {
   "cell_type": "markdown",
   "id": "fb2ce263",
   "metadata": {},
   "source": [
    "Hypothesis : Whenever this model is used, the predictions will be 11% correct."
   ]
  }
 ],
 "metadata": {
  "kernelspec": {
   "display_name": "Python 3",
   "language": "python",
   "name": "python3"
  },
  "language_info": {
   "codemirror_mode": {
    "name": "ipython",
    "version": 3
   },
   "file_extension": ".py",
   "mimetype": "text/x-python",
   "name": "python",
   "nbconvert_exporter": "python",
   "pygments_lexer": "ipython3",
   "version": "3.8.8"
  }
 },
 "nbformat": 4,
 "nbformat_minor": 5
}
